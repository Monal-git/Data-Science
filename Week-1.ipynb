{
 "cells": [
  {
   "cell_type": "markdown",
   "id": "a5ce6079-9802-4ff1-b8a8-b2c0bfa5b628",
   "metadata": {},
   "source": [
    "Question No.1"
   ]
  },
  {
   "cell_type": "code",
   "execution_count": 10,
   "id": "3598272f-1db9-40f4-b868-9e49db8c237e",
   "metadata": {
    "tags": []
   },
   "outputs": [
    {
     "data": {
      "text/plain": [
       "('String', [1, 2, 3, 4, 'x', 'y'], 20.23, (1, 2, 'c', 'd'))"
      ]
     },
     "execution_count": 10,
     "metadata": {},
     "output_type": "execute_result"
    }
   ],
   "source": [
    "A1='String',[1,2,3,4,'x','y'],20.23,(1,2,'c','d')\n",
    "A1"
   ]
  },
  {
   "cell_type": "markdown",
   "id": "39a06b82-36d9-4095-89a3-26be0450f394",
   "metadata": {},
   "source": [
    "Question No.2"
   ]
  },
  {
   "cell_type": "code",
   "execution_count": 28,
   "id": "f25b4080-121a-4edf-8a5e-8bfb0844d2ec",
   "metadata": {},
   "outputs": [
    {
     "name": "stdout",
     "output_type": "stream",
     "text": [
      "<class 'str'>\n",
      "<class 'str'>\n",
      "<class 'list'>\n",
      "<class 'int'>\n"
     ]
    }
   ],
   "source": [
    "var1 = ''\n",
    "var2 = '[ DS , ML , Python]'\n",
    "var3 = [ 'DS' , 'ML' , 'Python' ]\n",
    "var4 = 1\n",
    "print(type(var1))\n",
    "print(type(var2))\n",
    "print(type(var3))\n",
    "print(type(var4))"
   ]
  },
  {
   "cell_type": "markdown",
   "id": "fdc1a420-d4df-4baa-b8b5-c1073c197397",
   "metadata": {},
   "source": [
    "Question No.3"
   ]
  },
  {
   "cell_type": "code",
   "execution_count": 37,
   "id": "5c1c868e-d6e7-476e-9dc7-b0b6a8082b67",
   "metadata": {},
   "outputs": [
    {
     "name": "stdout",
     "output_type": "stream",
     "text": [
      "1.8181818181818181\n",
      "4.5\n",
      "1.0\n",
      "316227.7660168379\n"
     ]
    }
   ],
   "source": [
    "a=10\n",
    "b=5.5\n",
    "print(a/b)\n",
    "print(a%b)\n",
    "print(a//b)\n",
    "print(a**b)"
   ]
  },
  {
   "cell_type": "markdown",
   "id": "7275160c-6742-4074-97e9-383714b18a1b",
   "metadata": {},
   "source": [
    "Question No.4"
   ]
  },
  {
   "cell_type": "code",
   "execution_count": 32,
   "id": "5a3d825c-0aac-477b-b83c-30eef290971c",
   "metadata": {},
   "outputs": [
    {
     "name": "stdout",
     "output_type": "stream",
     "text": [
      "1\n",
      "a\n",
      "12.02\n",
      "True\n",
      "-1j\n",
      "2\n",
      "b\n",
      "24.5\n",
      "False\n",
      "[9, 8, 7]\n"
     ]
    }
   ],
   "source": [
    "L1=[1,'a',12.02,True,0-1j,2,'b',24.5,False,[9,8,7]]\n",
    "for i in L1:\n",
    "    print(i)"
   ]
  },
  {
   "cell_type": "markdown",
   "id": "93ff30c4-b005-42cc-bb33-01fa2438aab2",
   "metadata": {},
   "source": [
    "Question No.5"
   ]
  },
  {
   "cell_type": "code",
   "execution_count": null,
   "id": "f5333400-96ce-4000-a832-4b57fbd0253e",
   "metadata": {},
   "outputs": [],
   "source": [
    "A=81\n",
    "B=3\n",
    "x=0\n",
    "while A>=B and A%B==0:\n",
    "    x+=1\n",
    "    A//=B\n",
    "print(x)"
   ]
  },
  {
   "cell_type": "markdown",
   "id": "fbf44e4a-fe88-4fd5-b531-9153256fe7ab",
   "metadata": {},
   "source": [
    "Question No.6"
   ]
  },
  {
   "cell_type": "code",
   "execution_count": 16,
   "id": "67c2f0c3-9c1e-4eb9-91dd-7cc8982fa3f8",
   "metadata": {},
   "outputs": [
    {
     "name": "stdout",
     "output_type": "stream",
     "text": [
      "1 is not divisible by 3\n",
      "2 is not divisible by 3\n",
      "3 is divisible by 3\n",
      "4 is not divisible by 3\n",
      "5 is not divisible by 3\n",
      "6 is divisible by 3\n",
      "7 is not divisible by 3\n",
      "8 is not divisible by 3\n",
      "9 is divisible by 3\n",
      "10 is not divisible by 3\n",
      "12 is divisible by 3\n",
      "13 is not divisible by 3\n",
      "14 is not divisible by 3\n",
      "15 is divisible by 3\n",
      "16 is not divisible by 3\n",
      "17 is not divisible by 3\n",
      "18 is divisible by 3\n",
      "19 is not divisible by 3\n",
      "20 is not divisible by 3\n",
      "21 is divisible by 3\n",
      "22 is not divisible by 3\n",
      "23 is not divisible by 3\n",
      "24 is divisible by 3\n",
      "25 is not divisible by 3\n"
     ]
    }
   ],
   "source": [
    "L2=[1,2,3,4,5,6,7,8,9,10,12,13,14,15,16,17,18,19,20,21,22,23,24,25]\n",
    "for i in L2:\n",
    "    if (i%3==0):\n",
    "        print(i,\"is divisible by 3\")\n",
    "    else:\n",
    "        print(i,\"is not divisible by 3\")"
   ]
  },
  {
   "cell_type": "markdown",
   "id": "a116a07d-6736-4eb5-ab9d-44898c820073",
   "metadata": {},
   "source": [
    "Question No.7"
   ]
  },
  {
   "cell_type": "code",
   "execution_count": 19,
   "id": "c6772c07-f8c3-4521-9038-695e205910c6",
   "metadata": {},
   "outputs": [
    {
     "ename": "TypeError",
     "evalue": "'str' object does not support item assignment",
     "output_type": "error",
     "traceback": [
      "\u001b[0;31m---------------------------------------------------------------------------\u001b[0m",
      "\u001b[0;31mTypeError\u001b[0m                                 Traceback (most recent call last)",
      "Cell \u001b[0;32mIn[19], line 4\u001b[0m\n\u001b[1;32m      2\u001b[0m Y\u001b[38;5;241m=\u001b[39m\u001b[38;5;124m'\u001b[39m\u001b[38;5;124mStr\u001b[39m\u001b[38;5;124m'\u001b[39m             \u001b[38;5;66;03m#Y is String which is Immutable in nature.\u001b[39;00m\n\u001b[1;32m      3\u001b[0m X[\u001b[38;5;241m3\u001b[39m]\u001b[38;5;241m=\u001b[39m\u001b[38;5;241m22.23\u001b[39m\n\u001b[0;32m----> 4\u001b[0m \u001b[43mY\u001b[49m\u001b[43m[\u001b[49m\u001b[38;5;241;43m2\u001b[39;49m\u001b[43m]\u001b[49m\u001b[38;5;241m=\u001b[39m\u001b[38;5;124m'\u001b[39m\u001b[38;5;124ma\u001b[39m\u001b[38;5;124m'\u001b[39m   \u001b[38;5;66;03m#Gives error\u001b[39;00m\n\u001b[1;32m      5\u001b[0m X\n\u001b[1;32m      6\u001b[0m Y\n",
      "\u001b[0;31mTypeError\u001b[0m: 'str' object does not support item assignment"
     ]
    }
   ],
   "source": [
    "X=[1,'a',True,1.01] #X is List which is mutable in nature.\n",
    "Y='Str'             #Y is String which is Immutable in nature.\n",
    "X[3]=22.23\n",
    "Y[2]='a'   #Gives error: String is Immutable.\n",
    "X\n",
    "Y"
   ]
  }
 ],
 "metadata": {
  "kernelspec": {
   "display_name": "Python 3 (ipykernel)",
   "language": "python",
   "name": "python3"
  },
  "language_info": {
   "codemirror_mode": {
    "name": "ipython",
    "version": 3
   },
   "file_extension": ".py",
   "mimetype": "text/x-python",
   "name": "python",
   "nbconvert_exporter": "python",
   "pygments_lexer": "ipython3",
   "version": "3.10.8"
  }
 },
 "nbformat": 4,
 "nbformat_minor": 5
}
