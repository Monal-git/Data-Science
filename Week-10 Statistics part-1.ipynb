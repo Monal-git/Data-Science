{
 "cells": [
  {
   "cell_type": "markdown",
   "id": "fb87e4fd-ad8e-4acc-b40e-d23046cf0613",
   "metadata": {},
   "source": [
    "Question No.1"
   ]
  },
  {
   "cell_type": "code",
   "execution_count": null,
   "id": "4942feb5-8c69-4c74-b783-cce6ac610364",
   "metadata": {},
   "outputs": [],
   "source": [
    "''' Statistics is the Science of Collecting, Organizing and Analyzing data to enhance Business Model or to extract information for personal use. '''"
   ]
  },
  {
   "cell_type": "markdown",
   "id": "d4fda1fa-c967-41f9-a634-66c60be8ae3b",
   "metadata": {},
   "source": [
    "Question No.2"
   ]
  },
  {
   "cell_type": "code",
   "execution_count": null,
   "id": "df883f73-8e1c-47b6-88d9-ba1cd8effc60",
   "metadata": {},
   "outputs": [],
   "source": [
    "'''\n",
    "Descriptive statistics are used to summarize and describe the characteristics of a dataset, providing an overview of the data. Inferential \n",
    "statistics, on the other hand, are used to make inferences or predictions about a larger population based on a sample from that population.\n",
    "'''\n",
    "\n",
    "# Example: Examining the test scores of students in a class.\n",
    "# Descriptive\n",
    "'''Descriptive statistics are used to summarize and describe the main features of a dataset.\n",
    "In this example, you might calculate measures such as the mean (average), median (middle value), and mode (most frequent value) of the test scores.'''\n",
    "# Inferential\n",
    "'''Inferential statistics, on the other hand, are used to make predictions or draw inferences about a population based on a sample from that population. \n",
    "'''"
   ]
  },
  {
   "cell_type": "markdown",
   "id": "044225aa-a2f0-4299-a633-150a665e22a0",
   "metadata": {},
   "source": [
    "Question No.3"
   ]
  },
  {
   "cell_type": "code",
   "execution_count": null,
   "id": "643a045b-a360-44dc-8639-82b668ef67c6",
   "metadata": {},
   "outputs": [],
   "source": [
    "#Types of Data\n",
    "'''1.Qualitative\n",
    "2.Quantitative\n",
    "\n",
    "Example: Studying the preferences of students regarding their favorite ice cream flavors.\n",
    "\n",
    "Qualitative data focuses on non-numeric, categorical attributes or qualities, while quantitative data involves numeric values that can\n",
    "be measured and analyzed. The choice between these types of data depends on the research question and the nature of the information you want to\n",
    "collect and analyze.\n",
    "'''"
   ]
  },
  {
   "cell_type": "markdown",
   "id": "31a3371a-7a77-4401-b5de-7b0a7b1d74df",
   "metadata": {},
   "source": [
    "Question No.4"
   ]
  },
  {
   "cell_type": "code",
   "execution_count": null,
   "id": "97f164a8-28b7-4b72-9fdd-cb30ea0895bf",
   "metadata": {},
   "outputs": [],
   "source": [
    "'''\n",
    "(i) Grading in exam: A+, A, B+, B, C+, C, D, E                                   ===> Qualitative Data\n",
    "(ii) Colour of mangoes: yellow, green, orange, red                               ===> Qualitative Data\n",
    "(iii) Height data of a class: [178.9, 179, 179.5, 176, 177.2, 178.3, 175.8,...]  ===> Quantitative Data\n",
    "(iv) Number of mangoes exported by a farm: [500, 600, 478, 672, ...]             ===> Quantitative Data\n",
    "'''"
   ]
  },
  {
   "cell_type": "markdown",
   "id": "5f8c8d2e-0d0a-47da-a396-45c613bc8e8a",
   "metadata": {},
   "source": [
    "Question No.5"
   ]
  },
  {
   "cell_type": "code",
   "execution_count": null,
   "id": "2ac03a35-8e56-4d8e-aa12-8d3fdbb2a069",
   "metadata": {},
   "outputs": [],
   "source": [
    "''' \n",
    "Levels of measurement, also known as scales of measurement or data measurement scales, categorize variables into different \n",
    "levels based on the nature of the data and the mathematical operations that can be performed on them.\n",
    "'''\n",
    "'''\n",
    "Nominal Level:\n",
    "At the nominal level, data are categorical and can be sorted into distinct categories or groups with no inherent order or ranking.\n",
    "Examples:\n",
    "Eye color (e.g., \"blue,\" \"green,\" \"brown\").\n",
    "Types of fruits (e.g., \"apple,\" \"banana,\" \"orange\").\n",
    "\n",
    "Ordinal Level:\n",
    "Ordinal data represent categories with a meaningful order or ranking but do not have a consistent interval between categories.\n",
    "Examples:\n",
    "Education levels (e.g., \"high school diploma,\" \"associate's degree,\" \"bachelor's degree,\" \"master's degree\").\n",
    "Customer satisfaction ratings (e.g., \"very dissatisfied,\" \"dissatisfied,\" \"neutral,\" \"satisfied,\" \"very satisfied\").\n",
    "\n",
    "Interval Level:\n",
    "Interval data have a meaningful order, and the intervals between values are consistent and equal. However, there is no true \"zero\" point.\n",
    "Examples:\n",
    "Temperature in degrees Celsius or Fahrenheit (e.g., 20°C, 30°C, 40°F, 50°F).\n",
    "IQ scores (e.g., an IQ of 100, 120, or 140).\n",
    "\n",
    "Ratio Level:\n",
    "Ratio data have a meaningful order, consistent intervals, and a true \"zero\" point, which indicates the absence of the measured attribute.\n",
    "Examples:\n",
    "Age in years (e.g., 20 years old, 30 years old, 40 years old).\n",
    "Height in centimeters or inches (e.g., 150 cm, 160 cm, 170 cm).\n",
    "'''"
   ]
  },
  {
   "cell_type": "markdown",
   "id": "5ca407f5-7371-495d-852b-281828ee47fd",
   "metadata": {},
   "source": [
    "Question No.6"
   ]
  },
  {
   "cell_type": "code",
   "execution_count": null,
   "id": "83180672-abc1-437f-ae2c-46a288cc143c",
   "metadata": {},
   "outputs": [],
   "source": [
    "'''\n",
    "Understanding the level of measurement (nominal, ordinal, interval, or ratio) when analyzing data is crucial because it \n",
    "determines the type of statistical analysis and operations that can be applied to the data, as well as the interpretations and \n",
    "inferences that can be made.\n",
    "'''\n",
    "'''\n",
    "Example:\n",
    "Suppose you are conducting a survey to collect data on people's favorite movie genres. Respondents are asked to choose their favorite\n",
    "genre from a list of options, which includes \"Action,\" \"Comedy,\" \"Drama,\" \"Science Fiction,\" and \"Fantasy.\"\n",
    "\n",
    "Nominal Level (Categorical Data):\n",
    "If you treat the data as nominal (categorical), you recognize that the categories have no inherent order, and you can only perform \n",
    "qualitative analysis. For example, you can calculate the frequency or percentage of respondents who chose each genre:\n",
    "\n",
    "Action: 45%\n",
    "Comedy: 20%\n",
    "Drama: 15%\n",
    "Science Fiction: 10%\n",
    "Fantasy: 10%\n",
    "You can conclude that \"Action\" is the most popular genre based on the highest percentage, but you cannot say that \"Action\" is numerically \n",
    "greater than \"Comedy\" in any meaningful sense.\n",
    "\n",
    "Ordinal Level (Ordered Categorical Data):\n",
    "If you treat the data as ordinal (ordered categorical), you acknowledge that the categories have an order but do not have uniform or \n",
    "quantifiable intervals. In this case, you can rank the genres according to popularity:\n",
    "\n",
    "Action\n",
    "Comedy\n",
    "Drama\n",
    "Science Fiction\n",
    "Fantasy\n",
    "You can make statements about the relative popularity of genres but not about the exact differences in preference between them.\n",
    "\n",
    "However, if you incorrectly treated this data as interval or ratio level, you might attempt to perform mathematical operations that are \n",
    "not appropriate for these data. For instance, you might calculate the average (mean) of the genres:\n",
    "\n",
    "(1 + 2 + 3 + 4 + 5) / 5 = 3\n",
    "\n",
    "This calculation implies that the \"average\" movie genre is 3, which is meaningless in the context of ordinal data. It falsely suggests that \n",
    "there is a meaningful numeric relationship between the genres.\n",
    "'''"
   ]
  },
  {
   "cell_type": "markdown",
   "id": "672d62a9-e43e-41f4-82b2-1549a9f5895c",
   "metadata": {},
   "source": [
    "Question No.7"
   ]
  },
  {
   "cell_type": "code",
   "execution_count": null,
   "id": "c7d99409-0330-41ab-bfda-a341f4a538ab",
   "metadata": {},
   "outputs": [],
   "source": [
    "'''\n",
    "1.Nominal Scale Data\n",
    "- Order/Ranking Does not Matters.\n",
    "Examples of nominal data include:\n",
    "Eye colors (e.g., \"blue\" ,\"green\" ,\"brown\").\n",
    "Types of animals (e.g., \"cat\" ,\"dog\" ,\"bird\").\n",
    "Gender (e.g., \"male\", \"female\" ).\n",
    "\n",
    "2.Ordinal Scale Data\n",
    "- Ranking/Order is important\n",
    "- Difference cannot be measured\n",
    "Examples of ordinal data include:\n",
    "Education levels (e.g., \"high school diploma\", \"associate's degree\" ,\"bachelor's degree\", \"master's degree\").\n",
    "Customer satisfaction ratings (e.g., \"very dissatisfied\" ,\"dissatisfied\", \"neutral\", \"satisfied\" ,\"very satisfied\").\n",
    "'''"
   ]
  },
  {
   "cell_type": "markdown",
   "id": "63783916-7832-421b-9245-ab285752975a",
   "metadata": {},
   "source": [
    "Question No.8"
   ]
  },
  {
   "cell_type": "code",
   "execution_count": null,
   "id": "c166b189-2b91-4517-ad72-ec6072b88d7a",
   "metadata": {},
   "outputs": [],
   "source": [
    "# A \"Histogram\" plot can be used to display data in terms of range"
   ]
  },
  {
   "cell_type": "markdown",
   "id": "05f2c04d-9184-4c33-9801-0a9ecb385cca",
   "metadata": {},
   "source": [
    "Question No.9"
   ]
  },
  {
   "cell_type": "code",
   "execution_count": null,
   "id": "bec21d17-4f8b-4929-aee2-6abfbaa63f2c",
   "metadata": {},
   "outputs": [],
   "source": [
    "'''\n",
    "Descriptive statistics are used to summarize and describe the characteristics of a dataset, providing an overview of the data. Inferential \n",
    "statistics, on the other hand, are used to make inferences or predictions about a larger population based on a sample from that population.\n",
    "'''\n",
    "\n",
    "# Example: Examining the test scores of students in a class.\n",
    "# Descriptive\n",
    "'''Descriptive statistics are used to summarize and describe the main features of a dataset.\n",
    "In this example, you might calculate measures such as the mean (average), median (middle value), and mode (most frequent value) of the test scores.'''\n",
    "# Inferential\n",
    "'''Inferential statistics, on the other hand, are used to make predictions or draw inferences about a population based on a sample from that population. \n",
    "'''"
   ]
  },
  {
   "cell_type": "markdown",
   "id": "e347c456-cdad-4939-b8f8-d5ccd6f10370",
   "metadata": {},
   "source": [
    "Question No.10"
   ]
  },
  {
   "cell_type": "code",
   "execution_count": null,
   "id": "da8481e4-47d5-4b63-b9ab-c2533065b24c",
   "metadata": {},
   "outputs": [],
   "source": [
    "'''\n",
    "1.Measures of Central Tendency:\n",
    "    - Mean: The arithmetic mean is the sum of all data values divided by the number of values. It represents the average of the data.\n",
    "    - Median: The median is the middle value when the data is ordered from smallest to largest. It is not affected by extreme values \n",
    "      and represents the data's central value.\n",
    "              For odd-sized datasets, the median is the middle value.\n",
    "              For even-sized datasets, the median is the average of the two middle values.\n",
    "    - Mode: The mode is the value that occurs most frequently in the dataset. A dataset can have one mode (unimodal),\n",
    "      multiple modes (multimodal), or no mode (no clear most frequent value).\n",
    "        \n",
    "2.Measures of Variability (Dispersion): \n",
    "    - Variance: Variance measures the average of the squared differences between each data point and the mean. \n",
    "      It quantifies how data points deviate from the mean.\n",
    "    - Standard Deviation: The standard deviation is the square root of the variance. It provides a more interpretable measure of the spread of data.\n",
    "'''"
   ]
  }
 ],
 "metadata": {
  "kernelspec": {
   "display_name": "Python 3 (ipykernel)",
   "language": "python",
   "name": "python3"
  },
  "language_info": {
   "codemirror_mode": {
    "name": "ipython",
    "version": 3
   },
   "file_extension": ".py",
   "mimetype": "text/x-python",
   "name": "python",
   "nbconvert_exporter": "python",
   "pygments_lexer": "ipython3",
   "version": "3.10.8"
  }
 },
 "nbformat": 4,
 "nbformat_minor": 5
}
