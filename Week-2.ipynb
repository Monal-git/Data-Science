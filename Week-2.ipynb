{
 "cells": [
  {
   "cell_type": "markdown",
   "id": "0f8a37ff-73d6-479c-ad19-a383e765d935",
   "metadata": {},
   "source": [
    "Question No.1"
   ]
  },
  {
   "cell_type": "code",
   "execution_count": null,
   "id": "f7be892c-7469-489e-91cb-e945b6f95954",
   "metadata": {},
   "outputs": [],
   "source": [
    "# Comment is done by two ways\n",
    "# first by the symbol (#) It is single line comment.\n",
    "\"\"\"Second by triple quots\n",
    "This is Multi-line comment\"\"\""
   ]
  },
  {
   "cell_type": "markdown",
   "id": "85d25c1c-289b-4cce-b28e-30cdae94a9c3",
   "metadata": {},
   "source": [
    "Question No.2"
   ]
  },
  {
   "cell_type": "code",
   "execution_count": null,
   "id": "0d482c66-5f72-4017-9946-77386ec62b64",
   "metadata": {},
   "outputs": [],
   "source": [
    "# Variables is kind of container store value assign to it example :\n",
    "Var=10 # here Var is variable containing 10 inside it."
   ]
  },
  {
   "cell_type": "markdown",
   "id": "2651313b-0e18-4ed4-986b-0c33d73d72e5",
   "metadata": {},
   "source": [
    "Question No.3"
   ]
  },
  {
   "cell_type": "code",
   "execution_count": 7,
   "id": "494e726f-c69c-4321-8d86-449820376e0b",
   "metadata": {},
   "outputs": [
    {
     "data": {
      "text/plain": [
       "str"
      ]
     },
     "execution_count": 7,
     "metadata": {},
     "output_type": "execute_result"
    }
   ],
   "source": [
    "a=200  # this is type-casting in python.\n",
    "a=str(a)\n",
    "type(a)"
   ]
  },
  {
   "cell_type": "markdown",
   "id": "cbce4dda-d5a4-4877-bee6-87723696d1db",
   "metadata": {},
   "source": [
    "Question No.4"
   ]
  },
  {
   "cell_type": "code",
   "execution_count": null,
   "id": "a7627c0e-9684-4cf3-be8e-fd51b9ca99dd",
   "metadata": {},
   "outputs": [],
   "source": [
    "'''1. Open notepad and write 'print('monal')'\n",
    "2.Now save the file with .py extension like, monal.py\n",
    "3.Open cmd command\n",
    "4. Provide the path of monal.py and it will open\n",
    "5. Output will be 'monal'\n",
    "6.Done'''"
   ]
  },
  {
   "cell_type": "markdown",
   "id": "c98f2247-e027-494a-b2b1-e5cbc08570b4",
   "metadata": {},
   "source": [
    "Question No.5"
   ]
  },
  {
   "cell_type": "code",
   "execution_count": 1,
   "id": "7f72f82a-416c-46d9-860d-6a1ec65f138e",
   "metadata": {},
   "outputs": [
    {
     "data": {
      "text/plain": [
       "[2, 3]"
      ]
     },
     "execution_count": 1,
     "metadata": {},
     "output_type": "execute_result"
    }
   ],
   "source": [
    "my_list=[1, 2, 3, 4, 5]\n",
    "my_list[1:3]"
   ]
  },
  {
   "cell_type": "markdown",
   "id": "ddfdf29a-bde8-4c79-b424-030168f8b63e",
   "metadata": {},
   "source": [
    "Question No.6"
   ]
  },
  {
   "cell_type": "code",
   "execution_count": null,
   "id": "412a98eb-5f3d-4170-9d8b-47aa8b0cc204",
   "metadata": {},
   "outputs": [],
   "source": [
    "# Complex Number is composed of two type of part: real and imaginay.\n",
    "A=12-20j #How complex numbner is represented in python.\n",
    "# Here 12 is a real part and -20 is a imaginary part."
   ]
  },
  {
   "cell_type": "markdown",
   "id": "77ad066b-ce4a-4381-8152-355667c79481",
   "metadata": {},
   "source": [
    "Question No.7"
   ]
  },
  {
   "cell_type": "code",
   "execution_count": null,
   "id": "059252b9-a58a-4c31-a86e-134c911069a5",
   "metadata": {},
   "outputs": [],
   "source": [
    "age=25 #variable name age containing value 25."
   ]
  },
  {
   "cell_type": "markdown",
   "id": "82f4ca05-71a6-47b3-abd5-7f7fdbc585f4",
   "metadata": {},
   "source": [
    "Question No.8"
   ]
  },
  {
   "cell_type": "code",
   "execution_count": 2,
   "id": "a3311ba3-9c08-423f-a0e2-66bb203d4d3d",
   "metadata": {},
   "outputs": [
    {
     "data": {
      "text/plain": [
       "float"
      ]
     },
     "execution_count": 2,
     "metadata": {},
     "output_type": "execute_result"
    }
   ],
   "source": [
    "price=9.99\n",
    "type(price) #price is a float type."
   ]
  },
  {
   "cell_type": "markdown",
   "id": "a08709c6-cb98-455a-8877-448f2c491504",
   "metadata": {},
   "source": [
    "Question No.9"
   ]
  },
  {
   "cell_type": "code",
   "execution_count": 3,
   "id": "44b30b2c-0b34-43c5-9e63-119739431368",
   "metadata": {},
   "outputs": [
    {
     "data": {
      "text/plain": [
       "'Monal Raj Singh'"
      ]
     },
     "execution_count": 3,
     "metadata": {},
     "output_type": "execute_result"
    }
   ],
   "source": [
    "name=\"Monal Raj Singh\"\n",
    "name"
   ]
  },
  {
   "cell_type": "markdown",
   "id": "1a6587f4-7a89-4a29-9193-e1328ebeea9a",
   "metadata": {},
   "source": [
    "Question No.10"
   ]
  },
  {
   "cell_type": "code",
   "execution_count": 4,
   "id": "ab3a3426-1b74-4412-a9e8-a549ba229af7",
   "metadata": {},
   "outputs": [
    {
     "data": {
      "text/plain": [
       "'World'"
      ]
     },
     "execution_count": 4,
     "metadata": {},
     "output_type": "execute_result"
    }
   ],
   "source": [
    "string= \"Hello, World!\"\n",
    "string[7:12]"
   ]
  },
  {
   "cell_type": "markdown",
   "id": "c92e5e16-ba34-4bcc-8acd-889a8ae21788",
   "metadata": {},
   "source": [
    "Question No.11"
   ]
  },
  {
   "cell_type": "code",
   "execution_count": 6,
   "id": "fe25751c-7ccf-4eed-8f11-06abedf6da8e",
   "metadata": {},
   "outputs": [
    {
     "data": {
      "text/plain": [
       "True"
      ]
     },
     "execution_count": 6,
     "metadata": {},
     "output_type": "execute_result"
    }
   ],
   "source": [
    "is_student=True\n",
    "is_student"
   ]
  }
 ],
 "metadata": {
  "kernelspec": {
   "display_name": "Python 3 (ipykernel)",
   "language": "python",
   "name": "python3"
  },
  "language_info": {
   "codemirror_mode": {
    "name": "ipython",
    "version": 3
   },
   "file_extension": ".py",
   "mimetype": "text/x-python",
   "name": "python",
   "nbconvert_exporter": "python",
   "pygments_lexer": "ipython3",
   "version": "3.10.8"
  }
 },
 "nbformat": 4,
 "nbformat_minor": 5
}
