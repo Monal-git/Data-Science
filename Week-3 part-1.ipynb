{
 "cells": [
  {
   "cell_type": "markdown",
   "id": "54f6a8fe-085c-4793-8f4c-f2e7034d29b2",
   "metadata": {},
   "source": [
    "Question No.1"
   ]
  },
  {
   "cell_type": "code",
   "execution_count": 8,
   "id": "2f409202-6bdc-4aae-a69a-a3471117a602",
   "metadata": {
    "tags": []
   },
   "outputs": [
    {
     "data": {
      "text/plain": [
       "[1, 3, 5, 7, 9, 11, 13, 15, 17, 19, 21, 23, 25]"
      ]
     },
     "execution_count": 8,
     "metadata": {},
     "output_type": "execute_result"
    }
   ],
   "source": [
    "'''def keyword is use to create a function'''\n",
    "def odd_num():\n",
    "    L=[]\n",
    "    for i in range (1,26):\n",
    "        if i%2!=0:\n",
    "            L.append(i)\n",
    "    return L\n",
    "odd_num()\n",
    "    "
   ]
  },
  {
   "cell_type": "markdown",
   "id": "51e7e0fa-ef54-45e1-bede-4ea44bfcd698",
   "metadata": {},
   "source": [
    "Question No.2"
   ]
  },
  {
   "cell_type": "code",
   "execution_count": 19,
   "id": "bc8ebfa1-2b74-466c-bddc-aedc9efc96ef",
   "metadata": {
    "tags": []
   },
   "outputs": [
    {
     "data": {
      "text/plain": [
       "(1, 2, 3, 4, 5)"
      ]
     },
     "execution_count": 19,
     "metadata": {},
     "output_type": "execute_result"
    }
   ],
   "source": [
    "'''*args is used when we need multiple argument  and **kwargs is used when we need Multiple Key, Value pair'''\n",
    "def func1(*args):\n",
    "    return args\n",
    "def func2(**kwargs):\n",
    "    return kwargs\n",
    "func1(1,2,3,4,5)"
   ]
  },
  {
   "cell_type": "code",
   "execution_count": 20,
   "id": "288bc608-23d2-4af1-a405-1c47693bd168",
   "metadata": {},
   "outputs": [
    {
     "data": {
      "text/plain": [
       "{'Name': 'Monal', 'Age': 21, 'Email': 'Monal@gmail.com', 'Phone': 8302849}"
      ]
     },
     "execution_count": 20,
     "metadata": {},
     "output_type": "execute_result"
    }
   ],
   "source": [
    "func2(Name= 'Monal',Age=21,Email='Monal@gmail.com',Phone=8302849)"
   ]
  },
  {
   "cell_type": "markdown",
   "id": "aab414cb-7ad2-4cbc-a42f-dcc47475256e",
   "metadata": {},
   "source": [
    "Question No.3"
   ]
  },
  {
   "cell_type": "code",
   "execution_count": 27,
   "id": "eeeec2c7-51c8-43b3-bf1e-5a5d2b1e72ef",
   "metadata": {},
   "outputs": [
    {
     "name": "stdout",
     "output_type": "stream",
     "text": [
      "2\n",
      "4\n",
      "6\n",
      "8\n",
      "10\n"
     ]
    }
   ],
   "source": [
    "LI= [2, 4, 6, 8, 10, 12, 14, \n",
    "16, 18, 20]\n",
    "for i in LI[0:5]:\n",
    "    print(i)"
   ]
  },
  {
   "cell_type": "code",
   "execution_count": 25,
   "id": "fe07c2f4-a1f5-4ac6-b74a-ba6614195b20",
   "metadata": {},
   "outputs": [
    {
     "name": "stdout",
     "output_type": "stream",
     "text": [
      "2\n",
      "4\n",
      "6\n",
      "8\n",
      "10\n"
     ]
    }
   ],
   "source": [
    "LI= [2, 4, 6, 8, 10, 12, 14, \n",
    "16, 18, 20]\n",
    "X=iter(LI)\n",
    "for i in range(5):\n",
    "    print(next(X))\n",
    "    "
   ]
  },
  {
   "cell_type": "markdown",
   "id": "ff3988ab-a0ec-47cd-83be-4a959dcb5cbc",
   "metadata": {},
   "source": [
    "Question No.4"
   ]
  },
  {
   "cell_type": "code",
   "execution_count": 43,
   "id": "37e2daa0-8f25-4056-b379-33381f3ee6d1",
   "metadata": {},
   "outputs": [
    {
     "name": "stdout",
     "output_type": "stream",
     "text": [
      "2\n",
      "4\n",
      "6\n",
      "8\n",
      "10\n",
      "12\n",
      "14\n",
      "16\n",
      "18\n",
      "20\n",
      "22\n",
      "24\n",
      "26\n",
      "28\n",
      "30\n",
      "32\n",
      "34\n",
      "36\n",
      "38\n",
      "40\n",
      "42\n",
      "44\n",
      "46\n",
      "48\n",
      "50\n"
     ]
    }
   ],
   "source": [
    "'''A generator-function is defined like a normal function, but whenever it needs to generate a value, it does so with the yield keyword rather than return.'''\n",
    "# Unlike return yield do not terminate after once function called yield is used to give the sequence of value\n",
    "def even_num(n):\n",
    "    count = 1 \n",
    "    while count <= n:\n",
    "        if count%2==0:\n",
    "            yield count\n",
    "        count = count + 1\n",
    "c=even_num(50)\n",
    "for i in c :\n",
    "    print(i)"
   ]
  },
  {
   "cell_type": "markdown",
   "id": "09baca49-d71b-4de3-b8f4-e4e60c05b3b0",
   "metadata": {},
   "source": [
    "Question No.5"
   ]
  },
  {
   "cell_type": "code",
   "execution_count": 50,
   "id": "45354bbe-f272-4a3c-82c3-8d026d1eefd8",
   "metadata": {},
   "outputs": [],
   "source": [
    "def even_num(n):\n",
    "    num = 1 \n",
    "    while num <= n:\n",
    "        if num%num==0 and num%1==num :\n",
    "            yield num\n",
    "        num = num + 1\n",
    "c=even_num(20)\n",
    "for i in c :\n",
    "    print(i)"
   ]
  },
  {
   "cell_type": "markdown",
   "id": "4f92b386-1bf8-4d6f-998f-a93d4b8efbe8",
   "metadata": {},
   "source": [
    "Question No.6"
   ]
  },
  {
   "cell_type": "code",
   "execution_count": 49,
   "id": "3b1d19ed-0cf4-4bc6-a01d-7f4cc8895505",
   "metadata": {},
   "outputs": [
    {
     "name": "stdout",
     "output_type": "stream",
     "text": [
      "0\n",
      "1\n",
      "1\n",
      "2\n",
      "3\n",
      "5\n",
      "8\n",
      "13\n",
      "21\n",
      "34\n"
     ]
    }
   ],
   "source": [
    "def test_fib(n):\n",
    "    a,b = 0,1\n",
    "    for i in range(n):\n",
    "        yield a \n",
    "        a,b = b , a+b\n",
    "for i in test_fib(10):\n",
    "    print(i)"
   ]
  },
  {
   "cell_type": "markdown",
   "id": "8929a4ac-4dbb-4845-91e4-266112cb5718",
   "metadata": {},
   "source": [
    "Question No.7"
   ]
  },
  {
   "cell_type": "code",
   "execution_count": 51,
   "id": "71c082ff-8b85-462e-a091-e45cf097e422",
   "metadata": {},
   "outputs": [
    {
     "data": {
      "text/plain": [
       "['p', 'w', 's', 'k', 'i', 'l', 'l', 's']"
      ]
     },
     "execution_count": 51,
     "metadata": {},
     "output_type": "execute_result"
    }
   ],
   "source": [
    "A = \"pwskills\"\n",
    "list(A)"
   ]
  },
  {
   "cell_type": "markdown",
   "id": "db70e988-568f-4fe0-a2fa-a6dbc2ea6b0f",
   "metadata": {},
   "source": [
    "Question No.8"
   ]
  },
  {
   "cell_type": "code",
   "execution_count": 54,
   "id": "a0ca0761-8615-4e66-8df4-6375a1f7d3cc",
   "metadata": {},
   "outputs": [
    {
     "name": "stdin",
     "output_type": "stream",
     "text": [
      "Enter a number: 2552\n"
     ]
    },
    {
     "name": "stdout",
     "output_type": "stream",
     "text": [
      "2552 is Palindrome\n"
     ]
    }
   ],
   "source": [
    "n=input(\"Enter a number:\")\n",
    "while(True):\n",
    "    if (n==n[::-1]):\n",
    "        print(n,\"is Palindrome\")\n",
    "        break\n",
    "        \n",
    "    else:\n",
    "        print(n,\"is not Palindrome\")\n",
    "        break"
   ]
  },
  {
   "cell_type": "markdown",
   "id": "78db301c-139d-40ac-aa32-cc1c41c5aea5",
   "metadata": {},
   "source": [
    "Question No.9"
   ]
  },
  {
   "cell_type": "code",
   "execution_count": 45,
   "id": "3885e7eb-b97a-47f0-b6d5-4f1e98449291",
   "metadata": {},
   "outputs": [
    {
     "name": "stdout",
     "output_type": "stream",
     "text": [
      "[1, 3, 5, 7, 9, 11, 13, 15, 17, 19, 21, 23, 25, 27, 29, 31, 33, 35, 37, 39, 41, 43, 45, 47, 49, 51, 53, 55, 57, 59, 61, 63, 65, 67, 69, 71, 73, 75, 77, 79, 81, 83, 85, 87, 89, 91, 93, 95, 97, 99]"
     ]
    }
   ],
   "source": [
    "L1=[x for x in range(1,101)]\n",
    "print([x for x in L1 if x%2!=0],end='')"
   ]
  }
 ],
 "metadata": {
  "kernelspec": {
   "display_name": "Python 3 (ipykernel)",
   "language": "python",
   "name": "python3"
  },
  "language_info": {
   "codemirror_mode": {
    "name": "ipython",
    "version": 3
   },
   "file_extension": ".py",
   "mimetype": "text/x-python",
   "name": "python",
   "nbconvert_exporter": "python",
   "pygments_lexer": "ipython3",
   "version": "3.10.8"
  }
 },
 "nbformat": 4,
 "nbformat_minor": 5
}
