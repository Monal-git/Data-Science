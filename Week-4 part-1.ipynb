{
 "cells": [
  {
   "cell_type": "markdown",
   "id": "7c454457-5f62-4223-9f27-702a998b68aa",
   "metadata": {},
   "source": [
    "Question No.1"
   ]
  },
  {
   "cell_type": "code",
   "execution_count": 3,
   "id": "e030d26f-931c-4477-bceb-8739f095853a",
   "metadata": {},
   "outputs": [
    {
     "data": {
      "text/plain": [
       "('Harrier', '200kmph', '20kmpl')"
      ]
     },
     "execution_count": 3,
     "metadata": {},
     "output_type": "execute_result"
    }
   ],
   "source": [
    "class vehicle:\n",
    "    def __init__(self,name_of_vehicle,max_speed,average_of_vehicle):\n",
    "        self.name_of_vehicle= name_of_vehicle\n",
    "        self.max_speed= max_speed\n",
    "        self.average_of_vehicle= average_of_vehicle\n",
    "    def return_details(self):\n",
    "        return self.name_of_vehicle,self.max_speed,self.average_of_vehicle\n",
    "vehicle_obj = vehicle('Harrier','200kmph','20kmpl')\n",
    "vehicle_obj.return_details()"
   ]
  },
  {
   "cell_type": "markdown",
   "id": "07cb27c6-da65-4708-94d0-543657b7971b",
   "metadata": {},
   "source": [
    "Question No.2"
   ]
  },
  {
   "cell_type": "code",
   "execution_count": 5,
   "id": "a202e0c6-528d-40aa-8661-557802a9a66b",
   "metadata": {},
   "outputs": [
    {
     "data": {
      "text/plain": [
       "('Harrier', '2-seater')"
      ]
     },
     "execution_count": 5,
     "metadata": {},
     "output_type": "execute_result"
    }
   ],
   "source": [
    "class child_class(vehicle):\n",
    "    def __init__(self,name_of_vehicle,max_speed,average_of_vehicle,seating_capacity):\n",
    "        super().__init__(name_of_vehicle,max_speed,average_of_vehicle)\n",
    "        self.seating_capacity= seating_capacity   \n",
    "    def return_details(self):\n",
    "        return self.name_of_vehicle,self.seating_capacity\n",
    "new_obj= child_class('Harrier','200kmph','20kmpl','2-seater')\n",
    "new_obj.return_details()"
   ]
  },
  {
   "cell_type": "markdown",
   "id": "0227ba61-8cb4-4a2f-a550-7dd81b4fb5ea",
   "metadata": {},
   "source": [
    "Question No.3"
   ]
  },
  {
   "cell_type": "code",
   "execution_count": 6,
   "id": "5d949d6d-ecbe-40e8-b3cb-70479d691821",
   "metadata": {},
   "outputs": [
    {
     "data": {
      "text/plain": [
       "'This is A class'"
      ]
     },
     "execution_count": 6,
     "metadata": {},
     "output_type": "execute_result"
    }
   ],
   "source": [
    "'''Multiple Inheritance:- When a class is inherit the methods from multiple classes'''\n",
    "class A:\n",
    "    def a(self):\n",
    "        return \"This is A class\"\n",
    "class B:\n",
    "    def b(self):\n",
    "        return \"This is B class\"\n",
    "class C (A,B):\n",
    "    def c(self):\n",
    "        return \"This is C class\"\n",
    "obj_C = C()\n",
    "obj_C.a()"
   ]
  },
  {
   "cell_type": "code",
   "execution_count": 7,
   "id": "c4a68a2a-f7ae-483e-a58f-4a84182652e2",
   "metadata": {},
   "outputs": [
    {
     "data": {
      "text/plain": [
       "'This is B class'"
      ]
     },
     "execution_count": 7,
     "metadata": {},
     "output_type": "execute_result"
    }
   ],
   "source": [
    "obj_C.b()"
   ]
  },
  {
   "cell_type": "code",
   "execution_count": 8,
   "id": "3e6f12b0-755d-41e8-bddd-e3fbfef13746",
   "metadata": {},
   "outputs": [
    {
     "data": {
      "text/plain": [
       "'This is C class'"
      ]
     },
     "execution_count": 8,
     "metadata": {},
     "output_type": "execute_result"
    }
   ],
   "source": [
    "obj_C.c()"
   ]
  },
  {
   "cell_type": "markdown",
   "id": "75d898b4-56a6-42ff-9570-2a4687c8f825",
   "metadata": {},
   "source": [
    "Question No.4"
   ]
  },
  {
   "cell_type": "code",
   "execution_count": 32,
   "id": "34a77e9a-d684-46ae-a0f5-c37e2b49b716",
   "metadata": {},
   "outputs": [
    {
     "data": {
      "text/plain": [
       "21"
      ]
     },
     "execution_count": 32,
     "metadata": {},
     "output_type": "execute_result"
    }
   ],
   "source": [
    "'''Getter: A method that allows you to access an attribute in a given class. Setter: A method that allows you to set or mutate the value of an attribute in a class.'''\n",
    "class A:\n",
    "    def __init__(self , name , age):\n",
    "        self.name = name        \n",
    "        self.__age = age\n",
    "    @property\n",
    "    def access(self) : \n",
    "        return self.__age  \n",
    "    @access.getter\n",
    "    def get_age(self) : \n",
    "        return self.__age \n",
    "    @access.setter\n",
    "    def age_set(self , age):\n",
    "        if age <0:\n",
    "            pass\n",
    "        else :\n",
    "            self.__age = age\n",
    "obj=A('Monal',21)\n",
    "\n",
    "obj.age_set"
   ]
  },
  {
   "cell_type": "code",
   "execution_count": 33,
   "id": "c2c45770-d905-4b5b-8d6a-a84da025155c",
   "metadata": {},
   "outputs": [
    {
     "data": {
      "text/plain": [
       "50"
      ]
     },
     "execution_count": 33,
     "metadata": {},
     "output_type": "execute_result"
    }
   ],
   "source": [
    "# Age is updated\n",
    "obj.age_set=50\n",
    "obj.age_set"
   ]
  },
  {
   "cell_type": "markdown",
   "id": "bb094070-3632-4977-a335-060206877126",
   "metadata": {},
   "source": [
    "Question No.5"
   ]
  },
  {
   "cell_type": "code",
   "execution_count": 38,
   "id": "bd0328da-b532-4b59-a519-4245bdb4668b",
   "metadata": {},
   "outputs": [
    {
     "data": {
      "text/plain": [
       "'This is Child info'"
      ]
     },
     "execution_count": 38,
     "metadata": {},
     "output_type": "execute_result"
    }
   ],
   "source": [
    "'''Method overriding is a feature of object-oriented programming languages where the subclass or child class can provide the program with specific characteristics or a specific implementation process of data provided that are already defined in the parent class or superclass'''\n",
    "class Parent():\n",
    "    def class_info(self):\n",
    "        return \"This is Parent info\"\n",
    "    \n",
    "class child(Parent):\n",
    "    def class_info(self):\n",
    "        return \"This is Child info\"\n",
    "obj_child=child()\n",
    "obj.class_info()"
   ]
  }
 ],
 "metadata": {
  "kernelspec": {
   "display_name": "Python 3 (ipykernel)",
   "language": "python",
   "name": "python3"
  },
  "language_info": {
   "codemirror_mode": {
    "name": "ipython",
    "version": 3
   },
   "file_extension": ".py",
   "mimetype": "text/x-python",
   "name": "python",
   "nbconvert_exporter": "python",
   "pygments_lexer": "ipython3",
   "version": "3.10.8"
  }
 },
 "nbformat": 4,
 "nbformat_minor": 5
}
