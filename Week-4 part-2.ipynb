{
 "cells": [
  {
   "cell_type": "markdown",
   "id": "598f2b01-3058-4f45-9de6-121645b74cb4",
   "metadata": {},
   "source": [
    "Question No.1"
   ]
  },
  {
   "cell_type": "code",
   "execution_count": 5,
   "id": "eb41d849-87ec-4ea1-a60c-b9efc16263fa",
   "metadata": {},
   "outputs": [
    {
     "data": {
      "text/plain": [
       "'This is inside class'"
      ]
     },
     "execution_count": 5,
     "metadata": {},
     "output_type": "execute_result"
    }
   ],
   "source": [
    "'''Classes are user-defined data types that act as the blueprint for individual objects, attributes and methods. Objects are instances of a class created with specifically defined data.'''\n",
    "class Demo:\n",
    "    def return_(self):\n",
    "        return \"This is inside class\"\n",
    "Demo_obj= Demo()\n",
    "Demo_obj.return_()"
   ]
  },
  {
   "cell_type": "markdown",
   "id": "ad8d83d4-f779-46fe-9514-62aa096ef120",
   "metadata": {
    "tags": []
   },
   "source": [
    "Question No.2"
   ]
  },
  {
   "cell_type": "code",
   "execution_count": null,
   "id": "b98d9a1b-ac67-4960-8e81-1067a0ec0554",
   "metadata": {
    "tags": []
   },
   "outputs": [],
   "source": [
    "'''\n",
    "Four pillars of OOPs:-\n",
    "1.Polymorphism\n",
    "2.Encapsulation\n",
    "3.Inheritance\n",
    "4.Abstraction'''"
   ]
  },
  {
   "cell_type": "markdown",
   "id": "bd0048e9-7bc8-4e13-87c8-c87e4391137e",
   "metadata": {},
   "source": [
    "Question No.3"
   ]
  },
  {
   "cell_type": "code",
   "execution_count": 10,
   "id": "12c9ca21-f350-4883-9484-0ba0b3751576",
   "metadata": {},
   "outputs": [
    {
     "data": {
      "text/plain": [
       "('This is inside class', 'Arya')"
      ]
     },
     "execution_count": 10,
     "metadata": {},
     "output_type": "execute_result"
    }
   ],
   "source": [
    "''' __init__ is a function used to initialise the value in the class variable from user'''\n",
    "class Demo:\n",
    "    def __init__(self,name):\n",
    "        self.name= name\n",
    "    def return_(self):\n",
    "        return \"This is inside class\",self.name\n",
    "Demo_obj= Demo(\"Arya\")\n",
    "Demo_obj.return_()"
   ]
  },
  {
   "cell_type": "markdown",
   "id": "1b0291f7-7615-4f8b-89d7-de9c15255f5f",
   "metadata": {},
   "source": [
    "Question No.4"
   ]
  },
  {
   "cell_type": "code",
   "execution_count": null,
   "id": "6345ab10-7112-4bc7-af5d-62ca35acb250",
   "metadata": {},
   "outputs": [],
   "source": [
    "''' Self is used as a pointer between class and method,Functions'''"
   ]
  },
  {
   "cell_type": "markdown",
   "id": "64ae6fe6-37c8-4c52-a53a-1e5d54101c08",
   "metadata": {},
   "source": [
    "Question No.5"
   ]
  },
  {
   "cell_type": "code",
   "execution_count": 35,
   "id": "ad8bd959-f3a6-4c0b-8d27-08fbf639bc74",
   "metadata": {},
   "outputs": [
    {
     "data": {
      "text/plain": [
       "'Class Parent'"
      ]
     },
     "execution_count": 35,
     "metadata": {},
     "output_type": "execute_result"
    }
   ],
   "source": [
    "''' Inheritance:- A child class can access parent class and having the property of parent class'''\n",
    "# Single Inheritance\n",
    "class a:    # THis is parent class\n",
    "    def out_put1(self):\n",
    "        return \"Class Parent\"\n",
    "class b(a): \n",
    "    def out_put2(self):   # This is child class\n",
    "        return \"Class Child\"\n",
    "single_obj=b()\n",
    "single_obj.out_put1()"
   ]
  },
  {
   "cell_type": "code",
   "execution_count": 36,
   "id": "9525d2d0-cf8a-4f21-a921-f72a60bc612b",
   "metadata": {},
   "outputs": [
    {
     "data": {
      "text/plain": [
       "'Class Child'"
      ]
     },
     "execution_count": 36,
     "metadata": {},
     "output_type": "execute_result"
    }
   ],
   "source": [
    "single_obj.out_put2()"
   ]
  },
  {
   "cell_type": "code",
   "execution_count": 16,
   "id": "7d2c676f-1958-4fba-b673-bee01e093199",
   "metadata": {},
   "outputs": [
    {
     "data": {
      "text/plain": [
       "'Class Parent'"
      ]
     },
     "execution_count": 16,
     "metadata": {},
     "output_type": "execute_result"
    }
   ],
   "source": [
    "# Multilevel Inheritance\n",
    "class a:\n",
    "    def out_put1(self):\n",
    "        return \"Class Parent\"\n",
    "class b(a):\n",
    "    def out_put2(self):\n",
    "        return \"Class Child\"\n",
    "class c(b):\n",
    "    def out_put3(self):\n",
    "        return \"Class Sub-child\"\n",
    "multilvl_obj = c()\n",
    "multilvl_obj.out_put1()"
   ]
  },
  {
   "cell_type": "code",
   "execution_count": 17,
   "id": "c80ad503-6171-4f1f-9ebc-636ebbd95134",
   "metadata": {},
   "outputs": [
    {
     "data": {
      "text/plain": [
       "'Class Child'"
      ]
     },
     "execution_count": 17,
     "metadata": {},
     "output_type": "execute_result"
    }
   ],
   "source": [
    "multilvl_obj.out_put2()"
   ]
  },
  {
   "cell_type": "code",
   "execution_count": 18,
   "id": "3bd5e343-1cdc-46d4-bb3c-d6d816d962fc",
   "metadata": {},
   "outputs": [
    {
     "data": {
      "text/plain": [
       "'Class Sub-child'"
      ]
     },
     "execution_count": 18,
     "metadata": {},
     "output_type": "execute_result"
    }
   ],
   "source": [
    "multilvl_obj.out_put3()"
   ]
  },
  {
   "cell_type": "code",
   "execution_count": 26,
   "id": "b2676607-5179-45fb-9f0b-10906cce55b3",
   "metadata": {},
   "outputs": [
    {
     "data": {
      "text/plain": [
       "'Class Parent'"
      ]
     },
     "execution_count": 26,
     "metadata": {},
     "output_type": "execute_result"
    }
   ],
   "source": [
    "# Multiple Inheritance\n",
    "class a:\n",
    "    def out_put1(self):\n",
    "        return \"Class Parent\"\n",
    "class b:\n",
    "    def out_put2(self):\n",
    "        return \"Class Child\"\n",
    "class c(a,b):\n",
    "    def out_put3(self):\n",
    "        return \"Class Sub-child\"\n",
    "multiple_obj = c()\n",
    "multiple_obj.out_put1()"
   ]
  },
  {
   "cell_type": "code",
   "execution_count": 27,
   "id": "3dda6c23-27ab-4051-93c6-505d6439c8f3",
   "metadata": {},
   "outputs": [
    {
     "data": {
      "text/plain": [
       "'Class Child'"
      ]
     },
     "execution_count": 27,
     "metadata": {},
     "output_type": "execute_result"
    }
   ],
   "source": [
    "multiple_obj.out_put2()"
   ]
  },
  {
   "cell_type": "code",
   "execution_count": 28,
   "id": "25e0e705-7b18-489e-ab2b-2b16b17f05cc",
   "metadata": {},
   "outputs": [
    {
     "data": {
      "text/plain": [
       "'Class Sub-child'"
      ]
     },
     "execution_count": 28,
     "metadata": {},
     "output_type": "execute_result"
    }
   ],
   "source": [
    "multiple_obj.out_put3()"
   ]
  },
  {
   "cell_type": "code",
   "execution_count": 38,
   "id": "7d5c0d52-113d-4dc3-bb57-f55b69091fbc",
   "metadata": {},
   "outputs": [
    {
     "data": {
      "text/plain": [
       "'Parent class'"
      ]
     },
     "execution_count": 38,
     "metadata": {},
     "output_type": "execute_result"
    }
   ],
   "source": [
    "# Hierarchical Inheritance\n",
    "class a:\n",
    "    def out_put1(self):\n",
    "        return \"Parent class\"\n",
    "class b(a):\n",
    "    def out_put2(self):\n",
    "        return \"Class Child-1\"\n",
    "class c(a):\n",
    "    def out_put3(self):\n",
    "        return \"Class Child-2\"\n",
    "hier1_obj=b()\n",
    "hier2_obj=c()\n",
    "hier1_obj.out_put1()"
   ]
  },
  {
   "cell_type": "code",
   "execution_count": 39,
   "id": "92d728ea-8bb2-42f8-b66e-352c2ec29204",
   "metadata": {},
   "outputs": [
    {
     "data": {
      "text/plain": [
       "'Parent class'"
      ]
     },
     "execution_count": 39,
     "metadata": {},
     "output_type": "execute_result"
    }
   ],
   "source": [
    "hier2_obj.out_put1()"
   ]
  },
  {
   "cell_type": "code",
   "execution_count": 47,
   "id": "58f4abd8-2a57-433b-a938-d3d5a0952187",
   "metadata": {},
   "outputs": [
    {
     "data": {
      "text/plain": [
       "'Parent-1'"
      ]
     },
     "execution_count": 47,
     "metadata": {},
     "output_type": "execute_result"
    }
   ],
   "source": [
    "# Hybride Inheritance\n",
    "class a:\n",
    "    def out_put1(self):\n",
    "        return \"Parent-1\"\n",
    "class b:\n",
    "    def out_put2(self):\n",
    "        return \"Parent-2\"\n",
    "class c(a,b):\n",
    "    def out_put3(self):\n",
    "        return \"Class Child-2\"\n",
    "class d(c):\n",
    "    def out_put4(self):\n",
    "        return \"The parent of this class is Child-2\"\n",
    "hyb_obj1=c()\n",
    "hyb_obj2=d()\n",
    "hyb_obj1.out_put1()"
   ]
  },
  {
   "cell_type": "code",
   "execution_count": 48,
   "id": "f5331240-5579-43f2-a642-6b939d3bae25",
   "metadata": {},
   "outputs": [
    {
     "data": {
      "text/plain": [
       "'Class Child-2'"
      ]
     },
     "execution_count": 48,
     "metadata": {},
     "output_type": "execute_result"
    }
   ],
   "source": [
    "hyb_obj3.out_put3()"
   ]
  },
  {
   "cell_type": "code",
   "execution_count": 50,
   "id": "573b8f65-8613-4317-83b5-eecfa8521d3d",
   "metadata": {},
   "outputs": [
    {
     "data": {
      "text/plain": [
       "'Parent-2'"
      ]
     },
     "execution_count": 50,
     "metadata": {},
     "output_type": "execute_result"
    }
   ],
   "source": [
    "hyb_obj2.out_put2()"
   ]
  }
 ],
 "metadata": {
  "kernelspec": {
   "display_name": "Python 3 (ipykernel)",
   "language": "python",
   "name": "python3"
  },
  "language_info": {
   "codemirror_mode": {
    "name": "ipython",
    "version": 3
   },
   "file_extension": ".py",
   "mimetype": "text/x-python",
   "name": "python",
   "nbconvert_exporter": "python",
   "pygments_lexer": "ipython3",
   "version": "3.10.8"
  }
 },
 "nbformat": 4,
 "nbformat_minor": 5
}
