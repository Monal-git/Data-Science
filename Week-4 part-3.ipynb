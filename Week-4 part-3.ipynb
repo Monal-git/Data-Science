{
 "cells": [
  {
   "cell_type": "markdown",
   "id": "f3183441-1639-47dd-862a-9dfd3efcb6f4",
   "metadata": {
    "tags": []
   },
   "source": [
    "Question No.1"
   ]
  },
  {
   "cell_type": "code",
   "execution_count": 11,
   "id": "83f50657-854e-4c23-b20c-5de51ae311c3",
   "metadata": {},
   "outputs": [],
   "source": [
    "'''Abstraction is the processs of hidding implimentation from the user and only shows set of services to the user'''\n",
    "import abc\n",
    "class Student_details:\n",
    "    @abc.abstractmethod\n",
    "    def student_name():\n",
    "        pass\n",
    "    @abc.abstractmethod\n",
    "    def student_id():\n",
    "        pass\n",
    "class student1(Student_details):\n",
    "    def student_name(self):\n",
    "        return \"Aswathma\"\n",
    "    def student_id(self):\n",
    "        return 'Awa'\n",
    "class student2(Student_details):\n",
    "    def student_name(self):\n",
    "        return \"Gatotgach\"\n",
    "    def student_id(self):\n",
    "        return 'Gg'\n",
    "s1=student1()\n",
    "s2=student2()\n",
    "\n",
    "    "
   ]
  },
  {
   "cell_type": "code",
   "execution_count": 12,
   "id": "3383055a-1c78-45eb-930d-15208f16ee98",
   "metadata": {},
   "outputs": [
    {
     "data": {
      "text/plain": [
       "'Aswathma'"
      ]
     },
     "execution_count": 12,
     "metadata": {},
     "output_type": "execute_result"
    }
   ],
   "source": [
    "s1.student_name()"
   ]
  },
  {
   "cell_type": "code",
   "execution_count": 13,
   "id": "ed526952-61f4-44f6-8ff2-14a05b17120a",
   "metadata": {},
   "outputs": [
    {
     "data": {
      "text/plain": [
       "'Awa'"
      ]
     },
     "execution_count": 13,
     "metadata": {},
     "output_type": "execute_result"
    }
   ],
   "source": [
    "s1.student_id()"
   ]
  },
  {
   "cell_type": "code",
   "execution_count": 14,
   "id": "fbfeb46d-ae80-48a7-b1fc-fb47f0d9a3ff",
   "metadata": {},
   "outputs": [
    {
     "data": {
      "text/plain": [
       "'Gatotgach'"
      ]
     },
     "execution_count": 14,
     "metadata": {},
     "output_type": "execute_result"
    }
   ],
   "source": [
    "s2.student_name()"
   ]
  },
  {
   "cell_type": "code",
   "execution_count": 15,
   "id": "a586e850-10a6-4ee5-8912-4ec2b152fdc3",
   "metadata": {},
   "outputs": [
    {
     "data": {
      "text/plain": [
       "'Gg'"
      ]
     },
     "execution_count": 15,
     "metadata": {},
     "output_type": "execute_result"
    }
   ],
   "source": [
    "s2.student_id()"
   ]
  },
  {
   "cell_type": "markdown",
   "id": "4d24e48a-655b-4952-81df-8394f7919c0d",
   "metadata": {},
   "source": [
    "Question No.2"
   ]
  },
  {
   "cell_type": "code",
   "execution_count": 18,
   "id": "3605885d-5245-48f2-833c-13351c855605",
   "metadata": {},
   "outputs": [
    {
     "data": {
      "text/plain": [
       "'Python'"
      ]
     },
     "execution_count": 18,
     "metadata": {},
     "output_type": "execute_result"
    }
   ],
   "source": [
    "''' Abstraction is the method of hiding the unwanted information. Whereas \n",
    "encapsulation is a method to hide the data in a single entity or unit along \n",
    "with a method to protect information from outside.'''\n",
    "#Example of Abstraction\n",
    "import abc\n",
    "class student_name:\n",
    "    @abc.abstractmethod\n",
    "    def name():\n",
    "        pass\n",
    "class student1(student_name):\n",
    "    def student_name(self):\n",
    "        return \"Python\"\n",
    "obj_a= student1()\n",
    "obj_a.student_name()"
   ]
  },
  {
   "cell_type": "code",
   "execution_count": 20,
   "id": "0c90be5f-c6b8-487a-8cdc-c2a5df5b3c9a",
   "metadata": {},
   "outputs": [
    {
     "data": {
      "text/plain": [
       "'OOPs'"
      ]
     },
     "execution_count": 20,
     "metadata": {},
     "output_type": "execute_result"
    }
   ],
   "source": [
    "#Example of Encapsulation\n",
    "class student_details2:\n",
    "    def __init__(self,name,s_id):\n",
    "        self.name=name\n",
    "        self.__s_id=s_id\n",
    "    def set_s_id(self,s_id):\n",
    "        self.__s_id=s_id\n",
    "    def get_s_id(self):\n",
    "        return self.__s_id\n",
    "obj_e=student_details2('OOPs',10)\n",
    "obj_e.name"
   ]
  },
  {
   "cell_type": "code",
   "execution_count": 21,
   "id": "64bcdb49-17d9-41a5-bbe8-47efdddf9189",
   "metadata": {},
   "outputs": [],
   "source": [
    "obj_e.set_s_id(50)"
   ]
  },
  {
   "cell_type": "code",
   "execution_count": 22,
   "id": "3b3cc500-827a-4a91-91ab-f73c44850456",
   "metadata": {},
   "outputs": [
    {
     "data": {
      "text/plain": [
       "50"
      ]
     },
     "execution_count": 22,
     "metadata": {},
     "output_type": "execute_result"
    }
   ],
   "source": [
    "obj_e.get_s_id()"
   ]
  },
  {
   "cell_type": "markdown",
   "id": "db216f36-28d7-4a6b-b0c5-5a41b7367178",
   "metadata": {},
   "source": [
    "Question No.3"
   ]
  },
  {
   "cell_type": "code",
   "execution_count": null,
   "id": "5b9ccaf8-58bb-4342-b076-d64ae2ba8812",
   "metadata": {},
   "outputs": [],
   "source": [
    "''' abc module is a module containing all the information about abstraction.\n",
    "Whenever we wanted to abstract the data we import abc module and use it'''"
   ]
  },
  {
   "cell_type": "markdown",
   "id": "0be08065-eb7d-47aa-b2f6-0c7f288ba157",
   "metadata": {},
   "source": [
    "Question No.4"
   ]
  },
  {
   "cell_type": "code",
   "execution_count": null,
   "id": "01850174-4ca5-4027-bc00-84e145a95349",
   "metadata": {},
   "outputs": [],
   "source": [
    "''' Data Abstraction in Python can be achieved through creating abstract \n",
    "classes and inheritingthem later. Before discussing what abstract classes \n",
    "are, let us have a brief introduction of inheritance. Inheritance in OOP\n",
    "is a way through which one class inherits the attributes and methods of\n",
    "another class.'''"
   ]
  },
  {
   "cell_type": "markdown",
   "id": "3976095b-ba09-46b8-8163-353182464463",
   "metadata": {},
   "source": [
    "Question No.5"
   ]
  },
  {
   "cell_type": "code",
   "execution_count": null,
   "id": "fd3fda6c-a4be-4f47-aea6-269ca7dc914f",
   "metadata": {},
   "outputs": [],
   "source": [
    "''' Abstract classes cannot be instantiated, but they can be subclassed. \n",
    "When an abstract class is subclassed, the subclass usually provides \n",
    "implementations for all of the abstract methods in its parent class.\n",
    "However, if it does not, then the subclass must also be declared abstract .'''"
   ]
  }
 ],
 "metadata": {
  "kernelspec": {
   "display_name": "Python 3 (ipykernel)",
   "language": "python",
   "name": "python3"
  },
  "language_info": {
   "codemirror_mode": {
    "name": "ipython",
    "version": 3
   },
   "file_extension": ".py",
   "mimetype": "text/x-python",
   "name": "python",
   "nbconvert_exporter": "python",
   "pygments_lexer": "ipython3",
   "version": "3.10.8"
  }
 },
 "nbformat": 4,
 "nbformat_minor": 5
}
