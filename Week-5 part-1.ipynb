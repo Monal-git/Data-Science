{
 "cells": [
  {
   "cell_type": "markdown",
   "id": "3c9454b1-c76f-46b8-90b4-75444894e8b3",
   "metadata": {},
   "source": [
    "Question No.1"
   ]
  },
  {
   "cell_type": "code",
   "execution_count": 1,
   "id": "cc3a4553-5a9e-42a1-95dd-37c14806d427",
   "metadata": {},
   "outputs": [
    {
     "data": {
      "text/plain": [
       "\"Exceptions error can be recoverd and handled but we can't handle syntax \\neroor it should be remove.\""
      ]
     },
     "execution_count": 1,
     "metadata": {},
     "output_type": "execute_result"
    }
   ],
   "source": [
    "'''An exception is a Python object that represents an error.When an error \n",
    "occurs within a method, the method creates an object and hands it off to the \n",
    "runtime system.'''\n",
    "'''Exceptions error can be recoverd and handled but we can't handle syntax \n",
    "eroor it should be remove.'''"
   ]
  },
  {
   "cell_type": "markdown",
   "id": "a2460ea0-31d7-4cf4-9018-6e3991d90940",
   "metadata": {},
   "source": [
    "Question No.2"
   ]
  },
  {
   "cell_type": "code",
   "execution_count": 3,
   "id": "d2c8ef1c-f84c-4565-9497-0892f50f6595",
   "metadata": {},
   "outputs": [
    {
     "ename": "TypeError",
     "evalue": "Add() missing 2 required positional arguments: 'a' and 'b'",
     "output_type": "error",
     "traceback": [
      "\u001b[0;31m---------------------------------------------------------------------------\u001b[0m",
      "\u001b[0;31mTypeError\u001b[0m                                 Traceback (most recent call last)",
      "Cell \u001b[0;32mIn[3], line 5\u001b[0m\n\u001b[1;32m      3\u001b[0m \u001b[38;5;28;01mdef\u001b[39;00m \u001b[38;5;21mAdd\u001b[39m(a,b):\n\u001b[1;32m      4\u001b[0m     \u001b[38;5;28mprint\u001b[39m(A\u001b[38;5;241m+\u001b[39mB)\n\u001b[0;32m----> 5\u001b[0m obj\u001b[38;5;241m=\u001b[39m\u001b[43mAdd\u001b[49m\u001b[43m(\u001b[49m\u001b[43m)\u001b[49m\n",
      "\u001b[0;31mTypeError\u001b[0m: Add() missing 2 required positional arguments: 'a' and 'b'"
     ]
    }
   ],
   "source": [
    "'''If exception is not handled the remaining program with not execute and \n",
    "terminated at that point.'''\n",
    "def Add(a,b):\n",
    "    print(A+B)\n",
    "obj=Add()"
   ]
  },
  {
   "cell_type": "markdown",
   "id": "7e32f8b7-8a94-4038-810f-b26251d657ec",
   "metadata": {},
   "source": [
    "Question No.3"
   ]
  },
  {
   "cell_type": "code",
   "execution_count": 4,
   "id": "1924dce9-54b2-4e26-8fa4-d0f70d97ec20",
   "metadata": {},
   "outputs": [
    {
     "name": "stdout",
     "output_type": "stream",
     "text": [
      "unsupported operand type(s) for -: 'str' and 'int'\n"
     ]
    }
   ],
   "source": [
    "'''Try statement is used to catch error and except statement is used to handle\n",
    "exception.'''\n",
    "try:\n",
    "    'A'-10\n",
    "    print('Hello')\n",
    "except TypeError as e:\n",
    "    print(e)"
   ]
  },
  {
   "cell_type": "markdown",
   "id": "3073f916-71e2-4d0a-a527-8a17818dcb49",
   "metadata": {},
   "source": [
    "Question No.4"
   ]
  },
  {
   "cell_type": "code",
   "execution_count": 5,
   "id": "76c592eb-ef19-46b1-9b7b-a83dbe6945d5",
   "metadata": {},
   "outputs": [
    {
     "name": "stdout",
     "output_type": "stream",
     "text": [
      "This is try block\n",
      "This is else block\n"
     ]
    }
   ],
   "source": [
    "''' Else block with execute only when try block execute '''\n",
    "try:\n",
    "    print(\"This is try block\")\n",
    "except Exception as a:\n",
    "    print(a)\n",
    "else:\n",
    "    print(\"This is else block\")"
   ]
  },
  {
   "cell_type": "code",
   "execution_count": 6,
   "id": "19cf45e6-9fe0-41d5-8b13-18c1bdf56431",
   "metadata": {},
   "outputs": [
    {
     "name": "stdout",
     "output_type": "stream",
     "text": [
      "name 'a' is not defined\n",
      "This is else block\n"
     ]
    }
   ],
   "source": [
    "'''Finally will execute in any situtation'''\n",
    "try:\n",
    "    print(a)\n",
    "except Exception as e:\n",
    "    print(e)\n",
    "finally:\n",
    "    print(\"This is else block\")"
   ]
  },
  {
   "cell_type": "code",
   "execution_count": 9,
   "id": "9683d85f-c38d-4f0a-8df6-1375f6c4d2f3",
   "metadata": {},
   "outputs": [],
   "source": [
    "def raise_error(age) : \n",
    "    if age >= 60 :\n",
    "        raise error(\" Not allowed to vote (Age excced) \" )\n",
    "    elif age <= 18 : \n",
    "        raise error(\" Not allowed to vote (Age is less than 18) \" )\n",
    "    else :\n",
    "        print(\"Age is valid You are allowed to vote\" )\n"
   ]
  },
  {
   "cell_type": "code",
   "execution_count": 11,
   "id": "ffc10501-6044-43f5-a857-6de1e843bc0a",
   "metadata": {},
   "outputs": [
    {
     "name": "stdin",
     "output_type": "stream",
     "text": [
      "Enter your legal age 19\n"
     ]
    },
    {
     "name": "stdout",
     "output_type": "stream",
     "text": [
      "Age is valid You are allowed to vote\n"
     ]
    }
   ],
   "source": [
    "try:\n",
    "    age = int(input(\"Enter your legal age\" ))\n",
    "    raise_error(age)\n",
    "except error as e :\n",
    "    print(e)"
   ]
  },
  {
   "cell_type": "markdown",
   "id": "208fbd79-5383-4628-b3bc-aa95370a379c",
   "metadata": {},
   "source": [
    "Question No.5"
   ]
  },
  {
   "cell_type": "code",
   "execution_count": 18,
   "id": "6cfafac8-fa94-41f2-85b9-344c398b4f70",
   "metadata": {},
   "outputs": [
    {
     "name": "stdin",
     "output_type": "stream",
     "text": [
      "Enter a number:  20\n"
     ]
    },
    {
     "name": "stdout",
     "output_type": "stream",
     "text": [
      "Eligible to Vote\n"
     ]
    }
   ],
   "source": [
    "'''Custom Exception is Special type of Exception can be define by the user. \n",
    "By using raise keyword, to get desirable exception\n",
    "However, sometimes we may need to create our \n",
    "own custom exceptions that serve our purpose.'''\n",
    "# Example:-\n",
    "class InvalidAgeException(Exception):\n",
    "    \"Raised when the input value is less than 18\"\n",
    "    pass\n",
    "\n",
    "number = 18\n",
    "\n",
    "try:\n",
    "    input_num = int(input(\"Enter a number: \"))\n",
    "    if input_num < number:\n",
    "        raise InvalidAgeException\n",
    "    else:\n",
    "        print(\"Eligible to Vote\")\n",
    "        \n",
    "except InvalidAgeException:\n",
    "    print(\"Exception occurred: Invalid Age\")"
   ]
  },
  {
   "cell_type": "markdown",
   "id": "18cb419d-6465-41ba-93db-060b7007bc57",
   "metadata": {},
   "source": [
    "Question No.6"
   ]
  },
  {
   "cell_type": "code",
   "execution_count": 17,
   "id": "b6ae8555-680f-4040-9c39-8d27a2252749",
   "metadata": {},
   "outputs": [
    {
     "name": "stdin",
     "output_type": "stream",
     "text": [
      "Enter your legal age 22\n"
     ]
    },
    {
     "name": "stdout",
     "output_type": "stream",
     "text": [
      "Age is valid You are allowed to vote\n"
     ]
    }
   ],
   "source": [
    "class Error(Exception):\n",
    "    \n",
    "    def __init__(self , msg) : \n",
    "        self.msg = msg\n",
    "def raise_erro(age) : \n",
    "    if age >= 60 :\n",
    "        raise Error(\" Not allowed to vote (Age excced)! \" )\n",
    "    elif age <= 18 : \n",
    "        raise Error(\" Not allowed to vote (Age is less than 18)! \" )\n",
    "    else :\n",
    "        print(\"Age is valid You are allowed to vote\" )\n",
    "try:\n",
    "    age = int(input(\"Enter your legal age\" ))\n",
    "    raise_error(age)\n",
    "except Error as e :\n",
    "    print(e)"
   ]
  }
 ],
 "metadata": {
  "kernelspec": {
   "display_name": "Python 3 (ipykernel)",
   "language": "python",
   "name": "python3"
  },
  "language_info": {
   "codemirror_mode": {
    "name": "ipython",
    "version": 3
   },
   "file_extension": ".py",
   "mimetype": "text/x-python",
   "name": "python",
   "nbconvert_exporter": "python",
   "pygments_lexer": "ipython3",
   "version": "3.10.8"
  }
 },
 "nbformat": 4,
 "nbformat_minor": 5
}
